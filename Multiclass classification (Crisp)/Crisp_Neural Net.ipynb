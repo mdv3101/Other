{
 "cells": [
  {
   "cell_type": "code",
   "execution_count": 1,
   "metadata": {
    "collapsed": true
   },
   "outputs": [],
   "source": [
    "import pandas as pd\n",
    "import numpy as np\n",
    "import os\n",
    "import matplotlib.pyplot as plt\n",
    "%matplotlib inline\n",
    "from matplotlib.pylab import rcParams\n",
    "rcParams['figure.figsize'] = 25, 16\n",
    "from sklearn.metrics import confusion_matrix\n",
    "from sklearn.model_selection import train_test_split"
   ]
  },
  {
   "cell_type": "code",
   "execution_count": 2,
   "metadata": {
    "collapsed": true
   },
   "outputs": [],
   "source": [
    "cur_dir = os.getcwd()"
   ]
  },
  {
   "cell_type": "code",
   "execution_count": 3,
   "metadata": {
    "collapsed": true
   },
   "outputs": [],
   "source": [
    "df = pd.read_csv(cur_dir + \"//features_phase6a.csv\")"
   ]
  },
  {
   "cell_type": "code",
   "execution_count": 4,
   "metadata": {},
   "outputs": [
    {
     "data": {
      "text/plain": [
       "(17337, 135)"
      ]
     },
     "execution_count": 4,
     "metadata": {},
     "output_type": "execute_result"
    }
   ],
   "source": [
    "df.shape"
   ]
  },
  {
   "cell_type": "code",
   "execution_count": 11,
   "metadata": {
    "collapsed": true
   },
   "outputs": [],
   "source": [
    "df.LABEL = df.LABEL.astype('category')\n",
    "df.LABEL = df.LABEL.cat.codes"
   ]
  },
  {
   "cell_type": "code",
   "execution_count": 12,
   "metadata": {
    "collapsed": true
   },
   "outputs": [],
   "source": [
    "## X -> features, y -> label\n",
    "X= df.loc[:,'FG1':'SEP']\n",
    "y = df.loc[:,'LABEL']"
   ]
  },
  {
   "cell_type": "code",
   "execution_count": 13,
   "metadata": {},
   "outputs": [
    {
     "data": {
      "text/plain": [
       "(17337, 134)"
      ]
     },
     "execution_count": 13,
     "metadata": {},
     "output_type": "execute_result"
    }
   ],
   "source": [
    "X.shape"
   ]
  },
  {
   "cell_type": "code",
   "execution_count": 16,
   "metadata": {},
   "outputs": [
    {
     "data": {
      "text/plain": [
       "(17337, 17)"
      ]
     },
     "execution_count": 16,
     "metadata": {},
     "output_type": "execute_result"
    }
   ],
   "source": [
    "y.shape"
   ]
  },
  {
   "cell_type": "code",
   "execution_count": 15,
   "metadata": {},
   "outputs": [],
   "source": [
    "from keras.utils import np_utils\n",
    "y = np_utils.to_categorical(y)"
   ]
  },
  {
   "cell_type": "code",
   "execution_count": 17,
   "metadata": {
    "collapsed": true
   },
   "outputs": [],
   "source": [
    "from sklearn.model_selection import train_test_split\n",
    "X_train, X_test, y_train, y_test = train_test_split(X, y, test_size = 0.2)"
   ]
  },
  {
   "cell_type": "code",
   "execution_count": 18,
   "metadata": {
    "collapsed": true
   },
   "outputs": [],
   "source": [
    "from sklearn.preprocessing import StandardScaler\n",
    "sc = StandardScaler()\n",
    "X_train = sc.fit_transform(X_train)\n",
    "X_test = sc.transform(X_test)"
   ]
  },
  {
   "cell_type": "code",
   "execution_count": 19,
   "metadata": {},
   "outputs": [
    {
     "data": {
      "text/plain": [
       "(134,)"
      ]
     },
     "execution_count": 19,
     "metadata": {},
     "output_type": "execute_result"
    }
   ],
   "source": [
    "X_train.shape[1:]"
   ]
  },
  {
   "cell_type": "code",
   "execution_count": 20,
   "metadata": {},
   "outputs": [],
   "source": [
    "import keras\n",
    "from keras.models import Sequential\n",
    "from keras.layers import Dense\n",
    "from keras.layers import Dropout"
   ]
  },
  {
   "cell_type": "code",
   "execution_count": 25,
   "metadata": {
    "collapsed": true
   },
   "outputs": [],
   "source": [
    "classifier = Sequential()"
   ]
  },
  {
   "cell_type": "code",
   "execution_count": 26,
   "metadata": {},
   "outputs": [
    {
     "name": "stdout",
     "output_type": "stream",
     "text": [
      "_________________________________________________________________\n",
      "Layer (type)                 Output Shape              Param #   \n",
      "=================================================================\n",
      "dense_7 (Dense)              (None, 75)                10125     \n",
      "_________________________________________________________________\n",
      "dense_8 (Dense)              (None, 75)                5700      \n",
      "_________________________________________________________________\n",
      "dropout_3 (Dropout)          (None, 75)                0         \n",
      "_________________________________________________________________\n",
      "dense_9 (Dense)              (None, 17)                1292      \n",
      "=================================================================\n",
      "Total params: 17,117\n",
      "Trainable params: 17,117\n",
      "Non-trainable params: 0\n",
      "_________________________________________________________________\n"
     ]
    },
    {
     "name": "stderr",
     "output_type": "stream",
     "text": [
      "C:\\Users\\Dell\\Anaconda3\\lib\\site-packages\\ipykernel_launcher.py:1: UserWarning: Update your `Dense` call to the Keras 2 API: `Dense(activation=\"relu\", input_dim=134, units=75, kernel_initializer=\"uniform\")`\n",
      "  \"\"\"Entry point for launching an IPython kernel.\n",
      "C:\\Users\\Dell\\Anaconda3\\lib\\site-packages\\ipykernel_launcher.py:3: UserWarning: Update your `Dense` call to the Keras 2 API: `Dense(activation=\"relu\", units=75, kernel_initializer=\"uniform\")`\n",
      "  This is separate from the ipykernel package so we can avoid doing imports until\n",
      "C:\\Users\\Dell\\Anaconda3\\lib\\site-packages\\ipykernel_launcher.py:6: UserWarning: Update your `Dense` call to the Keras 2 API: `Dense(units=17, activation=\"softmax\", kernel_initializer=\"uniform\")`\n",
      "  \n"
     ]
    }
   ],
   "source": [
    "classifier.add(Dense(output_dim = 75, init = 'uniform', activation = 'relu', input_dim = 134))\n",
    "# Adding the second hidden layer\n",
    "classifier.add(Dense(output_dim = 75, init = 'uniform', activation = 'relu'))\n",
    "classifier.add(Dropout(0.7))\n",
    "# Adding the output layer\n",
    "classifier.add(Dense(units=17, init = 'uniform', activation = 'softmax'))\n",
    "\n",
    "classifier.compile(optimizer = 'adam', loss = 'binary_crossentropy', metrics = ['accuracy'])\n",
    "classifier.summary()"
   ]
  },
  {
   "cell_type": "code",
   "execution_count": 27,
   "metadata": {},
   "outputs": [
    {
     "name": "stderr",
     "output_type": "stream",
     "text": [
      "C:\\Users\\Dell\\Anaconda3\\lib\\site-packages\\keras\\models.py:844: UserWarning: The `nb_epoch` argument in `fit` has been renamed `epochs`.\n",
      "  warnings.warn('The `nb_epoch` argument in `fit` '\n"
     ]
    },
    {
     "name": "stdout",
     "output_type": "stream",
     "text": [
      "Train on 13869 samples, validate on 3468 samples\n",
      "Epoch 1/20\n",
      "13869/13869 [==============================] - 2s - loss: 0.1050 - acc: 0.9653 - val_loss: 0.0753 - val_acc: 0.9745\n",
      "Epoch 2/20\n",
      "13869/13869 [==============================] - 2s - loss: 0.0827 - acc: 0.9729 - val_loss: 0.0714 - val_acc: 0.9754\n",
      "Epoch 3/20\n",
      "13869/13869 [==============================] - 2s - loss: 0.0784 - acc: 0.9746 - val_loss: 0.0686 - val_acc: 0.9769\n",
      "Epoch 4/20\n",
      "13869/13869 [==============================] - 2s - loss: 0.0755 - acc: 0.9752 - val_loss: 0.0665 - val_acc: 0.9782\n",
      "Epoch 5/20\n",
      "13869/13869 [==============================] - 2s - loss: 0.0734 - acc: 0.9761 - val_loss: 0.0656 - val_acc: 0.9780\n",
      "Epoch 6/20\n",
      "13869/13869 [==============================] - 2s - loss: 0.0711 - acc: 0.9767 - val_loss: 0.0651 - val_acc: 0.9782\n",
      "Epoch 7/20\n",
      "13869/13869 [==============================] - 2s - loss: 0.0702 - acc: 0.9768 - val_loss: 0.0658 - val_acc: 0.9783\n",
      "Epoch 8/20\n",
      "13869/13869 [==============================] - 2s - loss: 0.0686 - acc: 0.9773 - val_loss: 0.0640 - val_acc: 0.9787\n",
      "Epoch 9/20\n",
      "13869/13869 [==============================] - 2s - loss: 0.0678 - acc: 0.9779 - val_loss: 0.0646 - val_acc: 0.9788\n",
      "Epoch 10/20\n",
      "13869/13869 [==============================] - 2s - loss: 0.0668 - acc: 0.9784 - val_loss: 0.0641 - val_acc: 0.9790\n",
      "Epoch 11/20\n",
      "13869/13869 [==============================] - 2s - loss: 0.0667 - acc: 0.9783 - val_loss: 0.0643 - val_acc: 0.9789\n",
      "Epoch 12/20\n",
      "13869/13869 [==============================] - 3s - loss: 0.0654 - acc: 0.9784 - val_loss: 0.0638 - val_acc: 0.9789\n",
      "Epoch 13/20\n",
      "13869/13869 [==============================] - 2s - loss: 0.0646 - acc: 0.9788 - val_loss: 0.0657 - val_acc: 0.9789\n",
      "Epoch 14/20\n",
      "13869/13869 [==============================] - 2s - loss: 0.0645 - acc: 0.9787 - val_loss: 0.0629 - val_acc: 0.9797\n",
      "Epoch 15/20\n",
      "13869/13869 [==============================] - 2s - loss: 0.0626 - acc: 0.9791 - val_loss: 0.0655 - val_acc: 0.9790\n",
      "Epoch 16/20\n",
      "13869/13869 [==============================] - 3s - loss: 0.0630 - acc: 0.9793 - val_loss: 0.0645 - val_acc: 0.9792\n",
      "Epoch 17/20\n",
      "13869/13869 [==============================] - 3s - loss: 0.0623 - acc: 0.9797 - val_loss: 0.0642 - val_acc: 0.9791\n",
      "Epoch 18/20\n",
      "13869/13869 [==============================] - 10s - loss: 0.0616 - acc: 0.9796 - val_loss: 0.0643 - val_acc: 0.9796\n",
      "Epoch 19/20\n",
      "13869/13869 [==============================] - 9s - loss: 0.0614 - acc: 0.9797 - val_loss: 0.0644 - val_acc: 0.9795\n",
      "Epoch 20/20\n",
      "13869/13869 [==============================] - 6s - loss: 0.0608 - acc: 0.9797 - val_loss: 0.0641 - val_acc: 0.9798\n"
     ]
    },
    {
     "data": {
      "text/plain": [
       "<keras.callbacks.History at 0x17d2ce1a978>"
      ]
     },
     "execution_count": 27,
     "metadata": {},
     "output_type": "execute_result"
    }
   ],
   "source": [
    "classifier.fit(X_train, y_train, batch_size = 10, nb_epoch = 20,\n",
    "              validation_data=(X_test, y_test))"
   ]
  },
  {
   "cell_type": "code",
   "execution_count": 28,
   "metadata": {
    "collapsed": true
   },
   "outputs": [],
   "source": [
    "y_pred = classifier.predict(X_test)"
   ]
  },
  {
   "cell_type": "code",
   "execution_count": 31,
   "metadata": {},
   "outputs": [
    {
     "data": {
      "text/plain": [
       "array([[  8.96223485e-01,   7.30120167e-02,   6.71317046e-09, ...,\n",
       "          7.98969631e-06,   1.17145470e-13,   1.83266335e-15],\n",
       "       [  2.63219978e-15,   9.99485850e-01,   0.00000000e+00, ...,\n",
       "          1.63744990e-11,   6.37783956e-38,   0.00000000e+00],\n",
       "       [  1.37687931e-02,   7.39297122e-02,   3.12830082e-08, ...,\n",
       "          8.23284447e-01,   4.68115043e-03,   1.02971114e-06],\n",
       "       ..., \n",
       "       [  2.23034635e-06,   3.98376665e-09,   3.24329969e-38, ...,\n",
       "          5.02665346e-13,   2.38855880e-24,   0.00000000e+00],\n",
       "       [  1.00895934e-01,   1.10774189e-02,   8.79815578e-01, ...,\n",
       "          2.78780553e-05,   3.74397301e-12,   9.73044236e-13],\n",
       "       [  1.17923171e-10,   1.38061740e-09,   0.00000000e+00, ...,\n",
       "          1.07204259e-15,   1.75915156e-30,   0.00000000e+00]], dtype=float32)"
      ]
     },
     "execution_count": 31,
     "metadata": {},
     "output_type": "execute_result"
    }
   ],
   "source": [
    "y_pred"
   ]
  },
  {
   "cell_type": "code",
   "execution_count": 34,
   "metadata": {},
   "outputs": [],
   "source": [
    "ab = np.argmax(y_pred,axis=1)"
   ]
  },
  {
   "cell_type": "code",
   "execution_count": 39,
   "metadata": {},
   "outputs": [],
   "source": [
    "y_test2 = np.argmax(y_test,axis=1)"
   ]
  },
  {
   "cell_type": "code",
   "execution_count": 40,
   "metadata": {},
   "outputs": [
    {
     "data": {
      "text/plain": [
       "array([[ 1.,  0.,  0., ...,  0.,  0.,  0.],\n",
       "       [ 0.,  1.,  0., ...,  0.,  0.,  0.],\n",
       "       [ 0.,  0.,  0., ...,  1.,  0.,  0.],\n",
       "       ..., \n",
       "       [ 0.,  0.,  0., ...,  0.,  0.,  0.],\n",
       "       [ 0.,  0.,  1., ...,  0.,  0.,  0.],\n",
       "       [ 0.,  0.,  0., ...,  0.,  0.,  0.]])"
      ]
     },
     "execution_count": 40,
     "metadata": {},
     "output_type": "execute_result"
    }
   ],
   "source": [
    "y_test"
   ]
  },
  {
   "cell_type": "code",
   "execution_count": 41,
   "metadata": {},
   "outputs": [
    {
     "data": {
      "text/plain": [
       "array([ 0,  1, 14, ...,  9,  2,  5], dtype=int64)"
      ]
     },
     "execution_count": 41,
     "metadata": {},
     "output_type": "execute_result"
    }
   ],
   "source": [
    "y_test2"
   ]
  },
  {
   "cell_type": "code",
   "execution_count": null,
   "metadata": {
    "collapsed": true
   },
   "outputs": [],
   "source": []
  }
 ],
 "metadata": {
  "kernelspec": {
   "display_name": "Python 3",
   "language": "python",
   "name": "python3"
  },
  "language_info": {
   "codemirror_mode": {
    "name": "ipython",
    "version": 3
   },
   "file_extension": ".py",
   "mimetype": "text/x-python",
   "name": "python",
   "nbconvert_exporter": "python",
   "pygments_lexer": "ipython3",
   "version": "3.6.1"
  }
 },
 "nbformat": 4,
 "nbformat_minor": 2
}
